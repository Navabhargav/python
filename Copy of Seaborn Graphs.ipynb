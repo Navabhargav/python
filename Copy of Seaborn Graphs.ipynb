import seaborn as sb
#Checking the datasets available in seaborn repository
sb.get_dataset_names()
gh_list = BeautifulSoup(http)
['anscombe', 'attention', 'brain_networks', 'car_crashes', 'diamonds', 'dots', 'exercise', 'flights', 'fmri', 'gammas', 'geyser', 'iris', 'mpg', 'penguins', 'planets', 'tips', 'titanic']
#Download a data and read that dataset available in seaborn
dataset = sb.load_dataset('iris')
print(dataset.shape)
dataset.head()
#MATPLOTLIB
import numpy as np
from matplotlib import pyplot as plt
def sinplot():
   x = np.linspace(0, 14, 100)
   for i in range(1, 5): 
      plt.plot(x, np.sin(x + i * .5) * (7 - i))
sinplot()
plt.show()
#sea born styles 1
sb.set() #set the current default style of seaborn
sinplot()
plt.show()
#sea born style 2
sb.set_style("whitegrid")
sinplot()
plt.show()
#sea born style 3
sb.set_style("white")
sinplot()
plt.show()
#sea born style 4
sinplot()
sb.despine()
plt.show()


#Color palettes in Seaborn

#Qualitative
current_palette = sb.color_palette()
sb.palplot(current_palette)
plt.show()

help(sb.color_palette)

#Sequential
sb.palplot(sb.color_palette("Greens"))
plt.show()

#Sequential
sb.palplot(sb.color_palette("Reds"))
plt.show()

#Diverging
sb.palplot(sb.color_palette("BrBG", 8))
plt.show()

sb.palplot(sb.color_palette("RdBu", 6))
plt.show()

#Setting a selected palette for a graph
sb.set_palette('Reds')
sinplot()
plt.show()

sb.set_palette("winter")
sinplot()
plt.show()


#Graphs in Seaborn

#Load a dataset
dataset = sb.load_dataset('iris')
print(dataset.shape)
dataset.head()

import pandas as pd
pd.unique(dataset['species'])

#Distribution of the data - continuous variable
sb.distplot(dataset['petal_length'])

sb.distplot(dataset['petal_length'],hist=False) #Kernel Density Estimator(KDE)

sb.distplot(dataset['petal_length'],kde=False)

#Scatter Plot
sb.scatterplot(dataset['petal_length'],dataset['petal_width'])

#Pair Plots - Comparing multiple variables
sb.pairplot(dataset,hue = 'species',diag_kind = "kde",kind = "scatter",palette = "husl")


sb.boxplot(data = dataset, x = 'species', y = 'sepal_length', palette = 'husl')

sb.swarmplot(data = dataset, x = 'species', y = 'sepal_length', palette = 'husl')

dataset = sb.load_dataset('titanic')
dataset.shape

sb.distplot(dataset['age'])

sb.distplot(dataset['fare'])

sb.countplot(dataset['survived'], palette = 'winter')

sb.countplot(dataset['sex'], palette = 'autumn')

sb.countplot(dataset['sex'], hue=dataset['survived'], palette = 'spring')

sb.countplot(dataset['pclass'], hue=dataset['survived'], palette = 'spring')

sb.boxplot(data = dataset, x = 'pclass', y = 'age', palette = 'husl')

sb.scatterplot(dataset['age'],dataset['fare'])


